{
  "nbformat": 4,
  "nbformat_minor": 0,
  "metadata": {
    "kernelspec": {
      "display_name": "Python 3",
      "language": "python",
      "name": "python3"
    },
    "language_info": {
      "codemirror_mode": {
        "name": "ipython",
        "version": 3
      },
      "file_extension": ".py",
      "mimetype": "text/x-python",
      "name": "python",
      "nbconvert_exporter": "python",
      "pygments_lexer": "ipython3",
      "version": "3.8.6"
    },
    "colab": {
      "provenance": [],
      "include_colab_link": true
    }
  },
  "cells": [
    {
      "cell_type": "markdown",
      "metadata": {
        "id": "view-in-github",
        "colab_type": "text"
      },
      "source": [
        "<a href=\"https://colab.research.google.com/github/COMS-BC3159-SP24/colabs/blob/main/GradientDescent.ipynb\" target=\"_parent\"><img src=\"https://colab.research.google.com/assets/colab-badge.svg\" alt=\"Open In Colab\"/></a>"
      ]
    },
    {
      "cell_type": "markdown",
      "metadata": {
        "id": "jIG15tocfY2J"
      },
      "source": [
        "# Gradient Descent\n",
        "Given we can calculate the gradient of our cost function, we can minimize it by moving in the opposite direction of the gradient using some learning rate."
      ]
    },
    {
      "cell_type": "code",
      "metadata": {
        "id": "mhZQTxfsfY2L"
      },
      "source": [
        "import numpy as np\n",
        "import matplotlib.pyplot as plt"
      ],
      "execution_count": null,
      "outputs": []
    },
    {
      "cell_type": "markdown",
      "source": [
        "Let's first generate some linear data and plot it!"
      ],
      "metadata": {
        "id": "xRUjqWjIyFD6"
      }
    },
    {
      "cell_type": "code",
      "source": [
        "N = 100\n",
        "X = 2 * np.random.rand(N,1)\n",
        "y = 4 + 3 * X + np.random.rand(N,1)\n",
        "plt.plot(X,y,'b.')\n",
        "plt.xlabel(\"$x$\", fontsize=18)\n",
        "plt.ylabel(\"$y$\", rotation=0, fontsize=18)\n",
        "_ =plt.axis([0,2,0,15])"
      ],
      "metadata": {
        "colab": {
          "base_uri": "https://localhost:8080/",
          "height": 287
        },
        "id": "WELZKbPyyH-X",
        "outputId": "209ea708-6aa3-4f40-c3d2-8b5033b44afa"
      },
      "execution_count": null,
      "outputs": [
        {
          "output_type": "display_data",
          "data": {
            "text/plain": [
              "<Figure size 432x288 with 1 Axes>"
            ],
            "image/png": "[encoded data removed]"
          },
          "metadata": {
            "needs_background": "light"
          }
        }
      ]
    },
    {
      "cell_type": "markdown",
      "source": [
        "Now lets take a guess for an initial values of a linear regression model. Say for example we set it to:\n",
        "\\begin{equation}\n",
        "\\theta_0 = 6, \\; \\theta_1 = 2 \\quad \\rightarrow \\quad \\hat{y}(x^{(i)};\\theta) = \\theta_1x^{(i)} + \\theta_0 \\quad \\rightarrow \\quad \\hat{y}(x^{(i)};\\theta) = 2x^{(i)} + 6\n",
        "\\end{equation}\n",
        "Then if we plot this on our data we will find it is a bit off for a lot of the data points (but not a bad guess)!"
      ],
      "metadata": {
        "id": "xWKRAJQNzBUG"
      }
    },
    {
      "cell_type": "code",
      "source": [
        "t0_init = 6\n",
        "t1_init = 2\n",
        "y_hat = t1_init*X + t0_init\n",
        "plt.plot(X,y,'b.')\n",
        "plt.plot(X,y_hat,'r-')\n",
        "plt.xlabel(\"$x$\", fontsize=1|8)\n",
        "plt.ylabel(\"$y$\", rotation=0, fontsize=18)\n",
        "_ =plt.axis([0,2,0,15])"
      ],
      "metadata": {
        "colab": {
          "base_uri": "https://localhost:8080/",
          "height": 278
        },
        "id": "zG7hniLfzkr5",
        "outputId": "862f9124-b71f-42b9-e567-0820adcbe133"
      },
      "execution_count": null,
      "outputs": [
        {
          "output_type": "display_data",
          "data": {
            "text/plain": [
              "<Figure size 432x288 with 1 Axes>"
            ],
            "image/png": "[encoded data removed]"
          },
          "metadata": {
            "needs_background": "light"
          }
        }
      ]
    },
    {
      "cell_type": "markdown",
      "source": [
        "We can actually analytically compute how far off it is with a cost function (lets use a quadratic cost function here):\n",
        "\n",
        "\\begin{equation}\n",
        "J(x;\\theta) = \\frac{1}{2} (\\hat{Y}(x;\\theta)-Y)^2 \\approx \\frac{1}{2m} \\sum_{i=1}^{m} (\\hat{y}^{(i)}(x;\\theta) - y^{(i)})^2\n",
        "\\end{equation}\n",
        "\n",
        "Lets plot where our current guess is on the cost landscape as a contour plot:"
      ],
      "metadata": {
        "id": "IuBxueeOzj_W"
      }
    },
    {
      "cell_type": "code",
      "source": [
        "def loss(t0,t1):\n",
        "  y_hat_i = t1*X + t0\n",
        "  delta = y_hat_i-y\n",
        "  return sum(delta**2)/len(y_hat_i)\n",
        "\n",
        "grid_density = 250\n",
        "t0_list = np.linspace(-5.0, 10.0, grid_density)\n",
        "t1_list = np.linspace(-5.0, 10.0, grid_density)\n",
        "Z = np.zeros((grid_density,grid_density))\n",
        "for t0_i in range(grid_density):\n",
        "  for t1_i in range(grid_density):\n",
        "    Z[t0_i,t1_i] = loss(t0_list[t0_i],t1_list[t1_i])\n",
        "\n",
        "fig,ax=plt.subplots(1,1)\n",
        "cp = ax.contourf(t0_list, t1_list, np.log(Z))\n",
        "fig.colorbar(cp) # Add a colorbar to a plot\n",
        "\n",
        "ax.plot([t0_init], [t1_init], marker='.', ms=10, color='r')\n",
        "plt.show()"
      ],
      "metadata": {
        "colab": {
          "base_uri": "https://localhost:8080/",
          "height": 269
        },
        "id": "cViupIIU1GMb",
        "outputId": "9270aeb1-47ea-4138-a3bb-b4ab90730300"
      },
      "execution_count": null,
      "outputs": [
        {
          "output_type": "display_data",
          "data": {
            "text/plain": [
              "<Figure size 432x288 with 2 Axes>"
            ],
            "image/png": "[encoded data removed]"
          },
          "metadata": {
            "needs_background": "light"
          }
        }
      ]
    },
    {
      "cell_type": "markdown",
      "source": [
        "We can then use this cost to do gradient descent over our random data according to some learning rate $\\alpha$ and update our estimates for the linear regression parameters $\\theta$:\n",
        "\n",
        "\\begin{equation}\n",
        "\\theta_j: = \\theta_j -\\alpha \\left(\\frac{1}{m}\\sum_{i=1}^{m}(\\hat{y}^{(i)} - y^{(i)})\\frac{\\partial\\hat{y}^{(i)}}{\\partial \\theta_j}\\right)\n",
        "\\end{equation}\n",
        "\n",
        "Noting that in our case since:\n",
        "\\begin{equation}\n",
        "  \\hat{y}(x^{(i)};\\theta) = \\theta_1x^{(i)} + \\theta_0\n",
        "\\end{equation}\n",
        "then:\n",
        "\\begin{equation}\n",
        "\\frac{\\partial\\hat{y}^{(i)}}{\\partial \\theta_0} = 1 \\quad \\quad\n",
        "\\frac{\\partial\\hat{y}^{(i)}}{\\partial \\theta_1} = x^{(i)}\n",
        "\\end{equation}\n",
        "\n",
        "So lets compute a series of update with a learning rate $\\alpha = 0.1$"
      ],
      "metadata": {
        "id": "wHaJkacS1GXh"
      }
    },
    {
      "cell_type": "code",
      "source": [
        "alpha = 0.1\n",
        "alpha_iters = 1000\n",
        "\n",
        "def grad_loss(t0,t1):\n",
        "  y_hat_i = t1*X + t0\n",
        "  delta = y_hat_i-y\n",
        "  delta_dt1 = [delta[i] * X[i] for i in range(len(delta))]\n",
        "  grad_0 = np.sum(delta)/len(delta)\n",
        "  grad_1 = np.sum(delta_dt1)/len(delta_dt1)\n",
        "  return (grad_0, grad_1)\n",
        "\n",
        "def compute_history_of_thetas(alpha, alpha_iters):\n",
        "  t0s = [t0_init]\n",
        "  t1s = [t1_init]\n",
        "  for i in range(alpha_iters):\n",
        "    t0_curr = t0s[-1]\n",
        "    t1_curr = t1s[-1]\n",
        "    grad = grad_loss(t0_curr,t1_curr)\n",
        "    t0s.append(t0_curr - alpha*grad[0])\n",
        "    t1s.append(t1_curr - alpha*grad[1])\n",
        "  return t0s, t1s\n",
        "\n",
        "t0s, t1s = compute_history_of_thetas(alpha, alpha_iters)\n",
        "\n",
        "fig,ax=plt.subplots(1,1)\n",
        "cp = ax.contourf(t0_list, t1_list, np.log(Z))\n",
        "fig.colorbar(cp) # Add a colorbar to a plot\n",
        "ax.plot(t0s, t1s, marker='.', ms=10, color='r')\n",
        "plt.show()"
      ],
      "metadata": {
        "colab": {
          "base_uri": "https://localhost:8080/",
          "height": 269
        },
        "id": "I_L9F-eT5R-S",
        "outputId": "9389bfdc-8f3f-45f2-cfc4-9ba3f06a00cb"
      },
      "execution_count": null,
      "outputs": [
        {
          "output_type": "display_data",
          "data": {
            "text/plain": [
              "<Figure size 432x288 with 2 Axes>"
            ],
            "image/png": "[encoded data removed]"
          },
          "metadata": {
            "needs_background": "light"
          }
        }
      ]
    },
    {
      "cell_type": "markdown",
      "source": [
        "What happens if we increase the learning rate? (It looks like we are moving slowly)"
      ],
      "metadata": {
        "id": "pK1UYNwOhGh-"
      }
    },
    {
      "cell_type": "code",
      "source": [
        "t0s, t1s = compute_history_of_thetas(0.85, alpha_iters)\n",
        "\n",
        "fig,ax=plt.subplots(1,1)\n",
        "cp = ax.contourf(t0_list, t1_list, np.log(Z))\n",
        "fig.colorbar(cp) # Add a colorbar to a plot\n",
        "ax.plot(t0s, t1s, marker='.', ms=10, color='r')\n",
        "plt.show()"
      ],
      "metadata": {
        "colab": {
          "base_uri": "https://localhost:8080/",
          "height": 269
        },
        "id": "uLbFrctshFZX",
        "outputId": "403418d2-4739-4975-83b2-be8b0b1cfbad"
      },
      "execution_count": null,
      "outputs": [
        {
          "output_type": "display_data",
          "data": {
            "text/plain": [
              "<Figure size 432x288 with 2 Axes>"
            ],
            "image/png": "[encoded data removed]"
          },
          "metadata": {
            "needs_background": "light"
          }
        }
      ]
    },
    {
      "cell_type": "markdown",
      "source": [
        "Ok that looks better but that's still pretty slow. Can we go faster?"
      ],
      "metadata": {
        "id": "N939BGyzowvy"
      }
    },
    {
      "cell_type": "code",
      "source": [
        "t0s, t1s = compute_history_of_thetas(1.5, alpha_iters)\n",
        "\n",
        "fig,ax=plt.subplots(1,1)\n",
        "cp = ax.contourf(t0_list, t1_list, np.log(Z))\n",
        "fig.colorbar(cp) # Add a colorbar to a plot\n",
        "ax.plot(t0s, t1s, marker='.', ms=10, color='r')\n",
        "plt.show()"
      ],
      "metadata": {
        "colab": {
          "base_uri": "https://localhost:8080/",
          "height": 289
        },
        "id": "_5eaQxwShcn4",
        "outputId": "69e6c075-b93e-4354-a34c-bbdc954f6518"
      },
      "execution_count": null,
      "outputs": [
        {
          "output_type": "display_data",
          "data": {
            "text/plain": [
              "<Figure size 432x288 with 2 Axes>"
            ],
            "image/png": "[encoded data removed]"
          },
          "metadata": {
            "needs_background": "light"
          }
        }
      ]
    },
    {
      "cell_type": "markdown",
      "source": [
        "What just happend? We diverged! We can't take took big of steps! We'll explore this more next class!"
      ],
      "metadata": {
        "id": "UdihvocohjH-"
      }
    }
  ]
}